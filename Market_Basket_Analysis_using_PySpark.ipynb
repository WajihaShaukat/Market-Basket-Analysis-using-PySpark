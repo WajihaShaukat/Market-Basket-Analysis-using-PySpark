{
  "metadata": {
    "kernelspec": {
      "language": "python",
      "display_name": "Python 3",
      "name": "python3"
    },
    "language_info": {
      "pygments_lexer": "ipython3",
      "nbconvert_exporter": "python",
      "version": "3.6.4",
      "file_extension": ".py",
      "codemirror_mode": {
        "name": "ipython",
        "version": 3
      },
      "name": "python",
      "mimetype": "text/x-python"
    },
    "colab": {
      "name": "Market Basket Analysis using PySpark",
      "provenance": []
    }
  },
  "nbformat_minor": 0,
  "nbformat": 4,
  "cells": [
    {
      "cell_type": "markdown",
      "source": [
        "# PySpark\n",
        "\n"
      ],
      "metadata": {
        "_uuid": "8f2839f25d086af736a60e9eeb907d3b93b6e0e5",
        "_cell_guid": "b1076dfc-b9ad-4769-8c92-a6c4dae69d19",
        "id": "3GKWSlQ_KWUJ"
      }
    },
    {
      "cell_type": "code",
      "source": [
        "!pip install pyspark\n",
        "!pip install pyspark_dist_explore"
      ],
      "metadata": {
        "execution": {
          "iopub.status.busy": "2022-07-11T09:24:37.583317Z",
          "iopub.execute_input": "2022-07-11T09:24:37.5839Z",
          "iopub.status.idle": "2022-07-11T09:25:33.94947Z",
          "shell.execute_reply.started": "2022-07-11T09:24:37.58386Z",
          "shell.execute_reply": "2022-07-11T09:25:33.947443Z"
        },
        "collapsed": true,
        "jupyter": {
          "outputs_hidden": true
        },
        "trusted": true,
        "id": "evIbITQSKWUM",
        "outputId": "a6741bc0-4b70-42a8-964a-57d544979364",
        "colab": {
          "base_uri": "https://localhost:8080/"
        }
      },
      "execution_count": 7,
      "outputs": [
        {
          "output_type": "stream",
          "name": "stdout",
          "text": [
            "Requirement already satisfied: pyspark in /usr/local/lib/python3.10/dist-packages (3.5.3)\n",
            "Requirement already satisfied: py4j==0.10.9.7 in /usr/local/lib/python3.10/dist-packages (from pyspark) (0.10.9.7)\n",
            "Requirement already satisfied: pyspark_dist_explore in /usr/local/lib/python3.10/dist-packages (0.1.8)\n",
            "Requirement already satisfied: pandas in /usr/local/lib/python3.10/dist-packages (from pyspark_dist_explore) (2.2.2)\n",
            "Requirement already satisfied: numpy in /usr/local/lib/python3.10/dist-packages (from pyspark_dist_explore) (1.26.4)\n",
            "Requirement already satisfied: scipy in /usr/local/lib/python3.10/dist-packages (from pyspark_dist_explore) (1.13.1)\n",
            "Requirement already satisfied: matplotlib in /usr/local/lib/python3.10/dist-packages (from pyspark_dist_explore) (3.7.1)\n",
            "Requirement already satisfied: contourpy>=1.0.1 in /usr/local/lib/python3.10/dist-packages (from matplotlib->pyspark_dist_explore) (1.3.0)\n",
            "Requirement already satisfied: cycler>=0.10 in /usr/local/lib/python3.10/dist-packages (from matplotlib->pyspark_dist_explore) (0.12.1)\n",
            "Requirement already satisfied: fonttools>=4.22.0 in /usr/local/lib/python3.10/dist-packages (from matplotlib->pyspark_dist_explore) (4.54.1)\n",
            "Requirement already satisfied: kiwisolver>=1.0.1 in /usr/local/lib/python3.10/dist-packages (from matplotlib->pyspark_dist_explore) (1.4.7)\n",
            "Requirement already satisfied: packaging>=20.0 in /usr/local/lib/python3.10/dist-packages (from matplotlib->pyspark_dist_explore) (24.1)\n",
            "Requirement already satisfied: pillow>=6.2.0 in /usr/local/lib/python3.10/dist-packages (from matplotlib->pyspark_dist_explore) (10.4.0)\n",
            "Requirement already satisfied: pyparsing>=2.3.1 in /usr/local/lib/python3.10/dist-packages (from matplotlib->pyspark_dist_explore) (3.1.4)\n",
            "Requirement already satisfied: python-dateutil>=2.7 in /usr/local/lib/python3.10/dist-packages (from matplotlib->pyspark_dist_explore) (2.8.2)\n",
            "Requirement already satisfied: pytz>=2020.1 in /usr/local/lib/python3.10/dist-packages (from pandas->pyspark_dist_explore) (2024.2)\n",
            "Requirement already satisfied: tzdata>=2022.7 in /usr/local/lib/python3.10/dist-packages (from pandas->pyspark_dist_explore) (2024.2)\n",
            "Requirement already satisfied: six>=1.5 in /usr/local/lib/python3.10/dist-packages (from python-dateutil>=2.7->matplotlib->pyspark_dist_explore) (1.16.0)\n"
          ]
        }
      ]
    },
    {
      "cell_type": "code",
      "source": [
        "from pyspark import SparkContext\n",
        "from pyspark.sql import functions as f, SparkSession, Column\n",
        "from pyspark_dist_explore import hist\n",
        "import matplotlib.pyplot as plt\n",
        "from pyspark.ml.fpm import FPGrowth"
      ],
      "metadata": {
        "execution": {
          "iopub.status.busy": "2022-07-11T09:30:51.991256Z",
          "iopub.execute_input": "2022-07-11T09:30:51.9919Z",
          "iopub.status.idle": "2022-07-11T09:30:52.632488Z",
          "shell.execute_reply.started": "2022-07-11T09:30:51.991839Z",
          "shell.execute_reply": "2022-07-11T09:30:52.631212Z"
        },
        "trusted": true,
        "id": "LVTl9yKlKWUN"
      },
      "execution_count": 8,
      "outputs": []
    },
    {
      "cell_type": "code",
      "source": [
        "from google.colab import files\n",
        "uploaded = files.upload()"
      ],
      "metadata": {
        "execution": {
          "iopub.status.busy": "2022-07-11T09:31:04.744401Z",
          "iopub.execute_input": "2022-07-11T09:31:04.745121Z",
          "iopub.status.idle": "2022-07-11T09:31:12.663872Z",
          "shell.execute_reply.started": "2022-07-11T09:31:04.745072Z",
          "shell.execute_reply": "2022-07-11T09:31:12.662932Z"
        },
        "trusted": true,
        "id": "1ZM6Lao_KWUP",
        "outputId": "7319f7d7-b2f2-4c43-b338-cb5ff90b6a72",
        "colab": {
          "base_uri": "https://localhost:8080/",
          "height": 73
        }
      },
      "execution_count": 18,
      "outputs": [
        {
          "output_type": "display_data",
          "data": {
            "text/plain": [
              "<IPython.core.display.HTML object>"
            ],
            "text/html": [
              "\n",
              "     <input type=\"file\" id=\"files-519c7587-91f1-42e3-b60a-e7d050d86f60\" name=\"files[]\" multiple disabled\n",
              "        style=\"border:none\" />\n",
              "     <output id=\"result-519c7587-91f1-42e3-b60a-e7d050d86f60\">\n",
              "      Upload widget is only available when the cell has been executed in the\n",
              "      current browser session. Please rerun this cell to enable.\n",
              "      </output>\n",
              "      <script>// Copyright 2017 Google LLC\n",
              "//\n",
              "// Licensed under the Apache License, Version 2.0 (the \"License\");\n",
              "// you may not use this file except in compliance with the License.\n",
              "// You may obtain a copy of the License at\n",
              "//\n",
              "//      http://www.apache.org/licenses/LICENSE-2.0\n",
              "//\n",
              "// Unless required by applicable law or agreed to in writing, software\n",
              "// distributed under the License is distributed on an \"AS IS\" BASIS,\n",
              "// WITHOUT WARRANTIES OR CONDITIONS OF ANY KIND, either express or implied.\n",
              "// See the License for the specific language governing permissions and\n",
              "// limitations under the License.\n",
              "\n",
              "/**\n",
              " * @fileoverview Helpers for google.colab Python module.\n",
              " */\n",
              "(function(scope) {\n",
              "function span(text, styleAttributes = {}) {\n",
              "  const element = document.createElement('span');\n",
              "  element.textContent = text;\n",
              "  for (const key of Object.keys(styleAttributes)) {\n",
              "    element.style[key] = styleAttributes[key];\n",
              "  }\n",
              "  return element;\n",
              "}\n",
              "\n",
              "// Max number of bytes which will be uploaded at a time.\n",
              "const MAX_PAYLOAD_SIZE = 100 * 1024;\n",
              "\n",
              "function _uploadFiles(inputId, outputId) {\n",
              "  const steps = uploadFilesStep(inputId, outputId);\n",
              "  const outputElement = document.getElementById(outputId);\n",
              "  // Cache steps on the outputElement to make it available for the next call\n",
              "  // to uploadFilesContinue from Python.\n",
              "  outputElement.steps = steps;\n",
              "\n",
              "  return _uploadFilesContinue(outputId);\n",
              "}\n",
              "\n",
              "// This is roughly an async generator (not supported in the browser yet),\n",
              "// where there are multiple asynchronous steps and the Python side is going\n",
              "// to poll for completion of each step.\n",
              "// This uses a Promise to block the python side on completion of each step,\n",
              "// then passes the result of the previous step as the input to the next step.\n",
              "function _uploadFilesContinue(outputId) {\n",
              "  const outputElement = document.getElementById(outputId);\n",
              "  const steps = outputElement.steps;\n",
              "\n",
              "  const next = steps.next(outputElement.lastPromiseValue);\n",
              "  return Promise.resolve(next.value.promise).then((value) => {\n",
              "    // Cache the last promise value to make it available to the next\n",
              "    // step of the generator.\n",
              "    outputElement.lastPromiseValue = value;\n",
              "    return next.value.response;\n",
              "  });\n",
              "}\n",
              "\n",
              "/**\n",
              " * Generator function which is called between each async step of the upload\n",
              " * process.\n",
              " * @param {string} inputId Element ID of the input file picker element.\n",
              " * @param {string} outputId Element ID of the output display.\n",
              " * @return {!Iterable<!Object>} Iterable of next steps.\n",
              " */\n",
              "function* uploadFilesStep(inputId, outputId) {\n",
              "  const inputElement = document.getElementById(inputId);\n",
              "  inputElement.disabled = false;\n",
              "\n",
              "  const outputElement = document.getElementById(outputId);\n",
              "  outputElement.innerHTML = '';\n",
              "\n",
              "  const pickedPromise = new Promise((resolve) => {\n",
              "    inputElement.addEventListener('change', (e) => {\n",
              "      resolve(e.target.files);\n",
              "    });\n",
              "  });\n",
              "\n",
              "  const cancel = document.createElement('button');\n",
              "  inputElement.parentElement.appendChild(cancel);\n",
              "  cancel.textContent = 'Cancel upload';\n",
              "  const cancelPromise = new Promise((resolve) => {\n",
              "    cancel.onclick = () => {\n",
              "      resolve(null);\n",
              "    };\n",
              "  });\n",
              "\n",
              "  // Wait for the user to pick the files.\n",
              "  const files = yield {\n",
              "    promise: Promise.race([pickedPromise, cancelPromise]),\n",
              "    response: {\n",
              "      action: 'starting',\n",
              "    }\n",
              "  };\n",
              "\n",
              "  cancel.remove();\n",
              "\n",
              "  // Disable the input element since further picks are not allowed.\n",
              "  inputElement.disabled = true;\n",
              "\n",
              "  if (!files) {\n",
              "    return {\n",
              "      response: {\n",
              "        action: 'complete',\n",
              "      }\n",
              "    };\n",
              "  }\n",
              "\n",
              "  for (const file of files) {\n",
              "    const li = document.createElement('li');\n",
              "    li.append(span(file.name, {fontWeight: 'bold'}));\n",
              "    li.append(span(\n",
              "        `(${file.type || 'n/a'}) - ${file.size} bytes, ` +\n",
              "        `last modified: ${\n",
              "            file.lastModifiedDate ? file.lastModifiedDate.toLocaleDateString() :\n",
              "                                    'n/a'} - `));\n",
              "    const percent = span('0% done');\n",
              "    li.appendChild(percent);\n",
              "\n",
              "    outputElement.appendChild(li);\n",
              "\n",
              "    const fileDataPromise = new Promise((resolve) => {\n",
              "      const reader = new FileReader();\n",
              "      reader.onload = (e) => {\n",
              "        resolve(e.target.result);\n",
              "      };\n",
              "      reader.readAsArrayBuffer(file);\n",
              "    });\n",
              "    // Wait for the data to be ready.\n",
              "    let fileData = yield {\n",
              "      promise: fileDataPromise,\n",
              "      response: {\n",
              "        action: 'continue',\n",
              "      }\n",
              "    };\n",
              "\n",
              "    // Use a chunked sending to avoid message size limits. See b/62115660.\n",
              "    let position = 0;\n",
              "    do {\n",
              "      const length = Math.min(fileData.byteLength - position, MAX_PAYLOAD_SIZE);\n",
              "      const chunk = new Uint8Array(fileData, position, length);\n",
              "      position += length;\n",
              "\n",
              "      const base64 = btoa(String.fromCharCode.apply(null, chunk));\n",
              "      yield {\n",
              "        response: {\n",
              "          action: 'append',\n",
              "          file: file.name,\n",
              "          data: base64,\n",
              "        },\n",
              "      };\n",
              "\n",
              "      let percentDone = fileData.byteLength === 0 ?\n",
              "          100 :\n",
              "          Math.round((position / fileData.byteLength) * 100);\n",
              "      percent.textContent = `${percentDone}% done`;\n",
              "\n",
              "    } while (position < fileData.byteLength);\n",
              "  }\n",
              "\n",
              "  // All done.\n",
              "  yield {\n",
              "    response: {\n",
              "      action: 'complete',\n",
              "    }\n",
              "  };\n",
              "}\n",
              "\n",
              "scope.google = scope.google || {};\n",
              "scope.google.colab = scope.google.colab || {};\n",
              "scope.google.colab._files = {\n",
              "  _uploadFiles,\n",
              "  _uploadFilesContinue,\n",
              "};\n",
              "})(self);\n",
              "</script> "
            ]
          },
          "metadata": {}
        },
        {
          "output_type": "stream",
          "name": "stdout",
          "text": [
            "Saving Groceries.csv to Groceries.csv\n"
          ]
        }
      ]
    },
    {
      "cell_type": "code",
      "source": [
        "from pyspark.sql import SparkSession\n",
        "spark = SparkSession.builder.appName(\"MyApp\").getOrCreate()\n",
        "\n",
        "df = spark.read.csv(\"Groceries.csv\", header=True, inferSchema=True)\n",
        "df.show(5)"
      ],
      "metadata": {
        "id": "Uxfxci8MP3Uv",
        "outputId": "dca0b465-7b2b-46eb-eb39-023e053e7dcb",
        "colab": {
          "base_uri": "https://localhost:8080/"
        }
      },
      "execution_count": 30,
      "outputs": [
        {
          "output_type": "stream",
          "name": "stdout",
          "text": [
            "+-------------+----------+----------------+----+-----+---+-----------+\n",
            "|Member_number|      Date| itemDescription|year|month|day|day_of_week|\n",
            "+-------------+----------+----------------+----+-----+---+-----------+\n",
            "|         1808|2015-07-21|  tropical fruit|2015|    7| 21|          1|\n",
            "|         2552|2015-05-01|      whole milk|2015|    5|  1|          4|\n",
            "|         2300|2015-09-19|       pip fruit|2015|    9| 19|          5|\n",
            "|         1187|2015-12-12|other vegetables|2015|   12| 12|          5|\n",
            "|         3037|2015-01-02|      whole milk|2015|    1|  2|          4|\n",
            "+-------------+----------+----------------+----+-----+---+-----------+\n",
            "only showing top 5 rows\n",
            "\n"
          ]
        }
      ]
    },
    {
      "cell_type": "code",
      "source": [
        "df.printSchema()"
      ],
      "metadata": {
        "execution": {
          "iopub.status.busy": "2022-07-11T09:31:50.269231Z",
          "iopub.execute_input": "2022-07-11T09:31:50.269643Z",
          "iopub.status.idle": "2022-07-11T09:31:50.28879Z",
          "shell.execute_reply.started": "2022-07-11T09:31:50.26961Z",
          "shell.execute_reply": "2022-07-11T09:31:50.287638Z"
        },
        "trusted": true,
        "id": "GGGSEsQ3KWUQ",
        "outputId": "db3696d6-0395-41ac-84c9-d94ac439ea9e",
        "colab": {
          "base_uri": "https://localhost:8080/"
        }
      },
      "execution_count": 22,
      "outputs": [
        {
          "output_type": "stream",
          "name": "stdout",
          "text": [
            "root\n",
            " |-- Member_number: integer (nullable = true)\n",
            " |-- Date: date (nullable = true)\n",
            " |-- itemDescription: string (nullable = true)\n",
            " |-- year: integer (nullable = true)\n",
            " |-- month: integer (nullable = true)\n",
            " |-- day: integer (nullable = true)\n",
            " |-- day_of_week: integer (nullable = true)\n",
            "\n"
          ]
        }
      ]
    },
    {
      "cell_type": "code",
      "source": [
        "num_baskets = df.groupBy(\"Member_number\").count()\n",
        "num_baskets.show(5)"
      ],
      "metadata": {
        "execution": {
          "iopub.status.busy": "2022-07-11T09:33:12.865395Z",
          "iopub.execute_input": "2022-07-11T09:33:12.865937Z",
          "iopub.status.idle": "2022-07-11T09:33:14.559228Z",
          "shell.execute_reply.started": "2022-07-11T09:33:12.865891Z",
          "shell.execute_reply": "2022-07-11T09:33:14.557889Z"
        },
        "trusted": true,
        "id": "bMH-nnaKKWUQ",
        "outputId": "10b6f8a4-1391-4e5b-8bda-593cd0573254",
        "colab": {
          "base_uri": "https://localhost:8080/"
        }
      },
      "execution_count": 23,
      "outputs": [
        {
          "output_type": "stream",
          "name": "stdout",
          "text": [
            "+-------------+-----+\n",
            "|Member_number|count|\n",
            "+-------------+-----+\n",
            "|         1959|   19|\n",
            "|         1088|    9|\n",
            "|         4818|    8|\n",
            "|         2659|   16|\n",
            "|         1580|   16|\n",
            "+-------------+-----+\n",
            "only showing top 5 rows\n",
            "\n"
          ]
        }
      ]
    },
    {
      "cell_type": "code",
      "source": [
        "fig, ax = plt.subplots()\n",
        "\n",
        "hist(ax, num_baskets.select('count'), bins = 30, color=['blue'])"
      ],
      "metadata": {
        "execution": {
          "iopub.status.busy": "2021-07-04T09:52:50.195446Z",
          "iopub.execute_input": "2021-07-04T09:52:50.195815Z",
          "iopub.status.idle": "2021-07-04T09:52:57.665162Z",
          "shell.execute_reply.started": "2021-07-04T09:52:50.195785Z",
          "shell.execute_reply": "2021-07-04T09:52:57.66415Z"
        },
        "trusted": true,
        "id": "nE4RyzlWKWUS",
        "outputId": "49d627b2-455e-4b16-d027-387d211245c9",
        "colab": {
          "base_uri": "https://localhost:8080/",
          "height": 621
        }
      },
      "execution_count": 24,
      "outputs": [
        {
          "output_type": "execute_result",
          "data": {
            "text/plain": [
              "(array([302., 328., 178., 371., 237., 341., 251., 538., 252., 192., 179.,\n",
              "        144., 136., 109.,  69., 110.,  49.,  23.,  29.,  14.,  11.,   9.,\n",
              "         13.,   4.,   1.,   4.,   0.,   3.,   0.,   1.]),\n",
              " array([ 2.        ,  3.13333333,  4.26666667,  5.4       ,  6.53333333,\n",
              "         7.66666667,  8.8       ,  9.93333333, 11.06666667, 12.2       ,\n",
              "        13.33333333, 14.46666667, 15.6       , 16.73333333, 17.86666667,\n",
              "        19.        , 20.13333333, 21.26666667, 22.4       , 23.53333333,\n",
              "        24.66666667, 25.8       , 26.93333333, 28.06666667, 29.2       ,\n",
              "        30.33333333, 31.46666667, 32.6       , 33.73333333, 34.86666667,\n",
              "        36.        ]),\n",
              " <BarContainer object of 30 artists>)"
            ]
          },
          "metadata": {},
          "execution_count": 24
        },
        {
          "output_type": "display_data",
          "data": {
            "text/plain": [
              "<Figure size 640x480 with 1 Axes>"
            ],
            "image/png": "[encoded data removed]"
          },
          "metadata": {}
        }
      ]
    },
    {
      "cell_type": "code",
      "source": [
        "columns = ['basket']\n",
        "new_data = [(['ham', 'yogurt', 'light bulbs'],), (['jam', 'cocoa drinks', 'pet care'],)]\n",
        "rdd = spark.sparkContext.parallelize(new_data)\n",
        "new_df = rdd.toDF(columns)\n",
        "new_df.printSchema()\n",
        "new_df.show(2,False)"
      ],
      "metadata": {
        "execution": {
          "iopub.status.busy": "2022-07-11T09:40:27.781789Z",
          "iopub.execute_input": "2022-07-11T09:40:27.782194Z",
          "iopub.status.idle": "2022-07-11T09:40:29.117199Z",
          "shell.execute_reply.started": "2022-07-11T09:40:27.782158Z",
          "shell.execute_reply": "2022-07-11T09:40:29.115969Z"
        },
        "trusted": true,
        "id": "PsVa717oKWUU",
        "outputId": "8a732883-1252-414b-eb83-24ea4614de27",
        "colab": {
          "base_uri": "https://localhost:8080/"
        }
      },
      "execution_count": 27,
      "outputs": [
        {
          "output_type": "stream",
          "name": "stdout",
          "text": [
            "root\n",
            " |-- basket: array (nullable = true)\n",
            " |    |-- element: string (containsNull = true)\n",
            "\n",
            "+-----------------------------+\n",
            "|basket                       |\n",
            "+-----------------------------+\n",
            "|[ham, yogurt, light bulbs]   |\n",
            "|[jam, cocoa drinks, pet care]|\n",
            "+-----------------------------+\n",
            "\n"
          ]
        }
      ]
    },
    {
      "cell_type": "code",
      "source": [],
      "metadata": {
        "id": "drlHIwACKWUU"
      },
      "execution_count": null,
      "outputs": []
    }
  ]
}